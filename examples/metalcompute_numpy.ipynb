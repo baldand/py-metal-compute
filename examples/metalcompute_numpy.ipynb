{
 "cells": [
  {
   "cell_type": "markdown",
   "metadata": {},
   "source": [
    "# metalcompute and NumPy\n",
    "\n",
    "This notebook shows how to use NumPy (np) arrays with metalcompute (on macOS)\n",
    "\n",
    "np arrays can be passed directly as arguments to metalcompute kernels for input\n",
    "\n",
    "metalcompute buffers can also be wrapped using np for easier access and usage\n",
    "\n",
    "First we import both numpy (np) and metalcompute (mc). \n",
    "\n",
    "(This assumes both are installed already in the python environment using pip install numpy & pip install metalcompute)"
   ]
  },
  {
   "cell_type": "code",
   "execution_count": 1,
   "metadata": {},
   "outputs": [],
   "source": [
    "\n",
    "import numpy as np\n",
    "import metalcompute as mc"
   ]
  },
  {
   "cell_type": "markdown",
   "metadata": {},
   "source": [
    "Next we create a metalcompute device. On an M1 family mac, this will be the built in GPU."
   ]
  },
  {
   "cell_type": "code",
   "execution_count": 2,
   "metadata": {},
   "outputs": [],
   "source": [
    "dev = mc.Device()"
   ]
  },
  {
   "cell_type": "markdown",
   "metadata": {},
   "source": [
    "This is a simple kernel function called \"add\", to add together (element-wise) two arrays of float32 values, and write the result to a third array.\n"
   ]
  },
  {
   "cell_type": "code",
   "execution_count": 3,
   "metadata": {},
   "outputs": [],
   "source": [
    "kernel = dev.kernel(\"\"\"\n",
    "// We always need these two lines in a metal kernel\n",
    "#include <metal_stdlib>\n",
    "using namespace metal;\n",
    "\n",
    "// This is the add function\n",
    "kernel void add(\n",
    "    // These are the two input arrays, const as we will not write to them\n",
    "    const device float* a [[ buffer(0) ]],\n",
    "    const device float *b [[ buffer(1) ]],\n",
    "    // This is the output array\n",
    "    device float *c [[ buffer(2) ]],\n",
    "    // This is the index of the current kernel instance\n",
    "    uint id [[ thread_position_in_grid ]]) \n",
    "{\n",
    "    // This is the add operation: c = a + b (for each element)\n",
    "    c[id] = a[id] + b[id]; \n",
    "}\n",
    "\"\"\")\n",
    "\n",
    "add_fn = kernel.function(\"add\")"
   ]
  },
  {
   "cell_type": "markdown",
   "metadata": {},
   "source": [
    "We will test this with 256MB buffers"
   ]
  },
  {
   "cell_type": "code",
   "execution_count": 4,
   "metadata": {},
   "outputs": [],
   "source": [
    "count = 1024*1024*64\n",
    "size = count * 4 # 256MB"
   ]
  },
  {
   "cell_type": "markdown",
   "metadata": {},
   "source": [
    "Next we create two np test arrays, a_np and b_np, and calculate the sum of those as a reference "
   ]
  },
  {
   "cell_type": "code",
   "execution_count": 6,
   "metadata": {},
   "outputs": [],
   "source": [
    "\n",
    "a_np = np.arange(count,dtype='f') # f32 array\n",
    "b_np = (count - a_np).astype('f') # Cast to f32 array\n",
    "c_np = a_np + b_np # Calculate reference result"
   ]
  },
  {
   "cell_type": "markdown",
   "metadata": {},
   "source": [
    "Now we create metalcompute buffers with copies of the np data, and space for the result"
   ]
  },
  {
   "cell_type": "code",
   "execution_count": 7,
   "metadata": {},
   "outputs": [],
   "source": [
    "\n",
    "a = dev.buffer(a_np) # Create mc buffer as copy of a_np\n",
    "b = dev.buffer(b_np) # Create mc buffer as copy of b_np\n",
    "c = dev.buffer(size) # Space for the result"
   ]
  },
  {
   "cell_type": "markdown",
   "metadata": {},
   "source": [
    "Now we do the add calculation using metalcompute"
   ]
  },
  {
   "cell_type": "code",
   "execution_count": 8,
   "metadata": {},
   "outputs": [],
   "source": [
    "handle = add_fn(count,a,b,c)"
   ]
  },
  {
   "cell_type": "markdown",
   "metadata": {},
   "source": [
    "Next we wait for the compute to finish (by deleting the handle) and check the result against the numpy version.\n",
    "\n",
    "Note how the metalcompute buffer can be wrapped into a numpy array using np.frombuffer"
   ]
  },
  {
   "cell_type": "code",
   "execution_count": 9,
   "metadata": {},
   "outputs": [],
   "source": [
    "del handle # Will block until the compute has finished\n",
    "assert((c_np == np.frombuffer(c,dtype='f')).all())"
   ]
  }
 ],
 "metadata": {
  "interpreter": {
   "hash": "5572837bc281fd9d8b85dd451c1e4f71f5fe555738dca85800424c65f8dbba1c"
  },
  "kernelspec": {
   "display_name": "Python 3.8.9 64-bit",
   "language": "python",
   "name": "python3"
  },
  "language_info": {
   "codemirror_mode": {
    "name": "ipython",
    "version": 3
   },
   "file_extension": ".py",
   "mimetype": "text/x-python",
   "name": "python",
   "nbconvert_exporter": "python",
   "pygments_lexer": "ipython3",
   "version": "3.8.9"
  },
  "orig_nbformat": 4
 },
 "nbformat": 4,
 "nbformat_minor": 2
}
